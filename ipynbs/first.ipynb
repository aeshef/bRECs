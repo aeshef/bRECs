{
 "cells": [
  {
   "cell_type": "code",
   "execution_count": 1,
   "id": "fd4697d3",
   "metadata": {},
   "outputs": [
    {
     "name": "stderr",
     "output_type": "stream",
     "text": [
      "/Users/aeshef/Library/Python/3.9/lib/python/site-packages/urllib3/__init__.py:35: NotOpenSSLWarning: urllib3 v2 only supports OpenSSL 1.1.1+, currently the 'ssl' module is compiled with 'LibreSSL 2.8.3'. See: https://github.com/urllib3/urllib3/issues/3020\n",
      "  warnings.warn(\n"
     ]
    }
   ],
   "source": [
    "import tinkoff.invest\n",
    "from tinkoff.invest import PortfolioRequest, PortfolioPosition, Client, RequestError, CandleInterval, HistoricCandle, \\\n",
    "    OrderType, OrderDirection, Quotation, InstrumentIdType, InstrumentStatus\n",
    "from tinkoff.invest.services import InstrumentsService\n",
    "from datetime import datetime\n",
    "import pandas as pd\n",
    "import os\n",
    "import requests\n",
    "import time\n",
    "import zipfile\n",
    "import requests\n",
    "import numpy as np\n",
    "from concurrent.futures import ThreadPoolExecutor"
   ]
  },
  {
   "cell_type": "code",
   "execution_count": 2,
   "id": "3b162a38",
   "metadata": {},
   "outputs": [],
   "source": [
    "import sys\n",
    "sys.path.append('/Users/aeshef/Desktop/Курсач 2025/pys')\n",
    "\n",
    "import market_data\n",
    "import importlib\n",
    "importlib.reload(market_data)\n",
    "\n",
    "from market_data import MarketDataManager\n"
   ]
  },
  {
   "cell_type": "code",
   "execution_count": null,
   "id": "1e67e85d",
   "metadata": {},
   "outputs": [
    {
     "name": "stdout",
     "output_type": "stream",
     "text": [
      "Downloading missing data for GMKN from 2025-01-01 00:00:00 to 2025-01-02 04:00:00\n",
      "Downloading missing data for LKOH from 2025-01-01 00:00:00 to 2025-01-02 04:00:00\n",
      "Downloading missing data for ROSN from 2025-01-01 00:00:00 to 2025-01-02 04:00:00\n",
      "Downloading missing data for GAZP from 2025-01-01 00:00:00 to 2025-01-02 04:00:00\n",
      "Congratulations! BBG004731489 is a correct figi for GMKN\n",
      "Downloading GMKN (BBG004731489) for year 2025\n",
      "Congratulations! BBG004730RP0 is a correct figi for GAZP\n",
      "Downloading GAZP (BBG004730RP0) for year 2025\n",
      "Congratulations! BBG004731354 is a correct figi for ROSN\n",
      "Downloading ROSN (BBG004731354) for year 2025\n",
      "Congratulations! BBG004731032 is a correct figi for LKOH\n",
      "Downloading LKOH (BBG004731032) for year 2025\n",
      "Downloading missing data for SBER from 2025-01-01 00:00:00 to 2025-01-02 04:00:00\n",
      "Congratulations! BBG004730N88 is a correct figi for SBER\n",
      "Downloading SBER (BBG004730N88) for year 2025\n",
      "GAZP: No data found\n",
      "Downloading missing data for GAZP from 2025-04-09 20:49:00 to 2025-04-10 00:00:00\n",
      "Congratulations! BBG004730RP0 is a correct figi for GAZP\n",
      "Downloading GAZP (BBG004730RP0) for year 2025\n",
      "GMKN: No data found\n",
      "Downloading missing data for GMKN from 2025-04-09 20:49:00 to 2025-04-10 00:00:00\n",
      "Congratulations! BBG004731489 is a correct figi for GMKN\n",
      "Downloading GMKN (BBG004731489) for year 2025\n",
      "LKOH: No data found\n",
      "Downloading missing data for LKOH from 2025-04-09 20:49:00 to 2025-04-10 00:00:00\n",
      "Congratulations! BBG004731032 is a correct figi for LKOH\n",
      "Downloading LKOH (BBG004731032) for year 2025\n",
      "SBER: No data found\n",
      "Downloading missing data for SBER from 2025-04-09 20:49:00 to 2025-04-10 00:00:00\n",
      "Congratulations! BBG004730N88 is a correct figi for SBER\n",
      "Downloading SBER (BBG004730N88) for year 2025\n",
      "ROSN: No data found\n",
      "Downloading missing data for ROSN from 2025-04-09 20:49:00 to 2025-04-10 00:00:00\n",
      "Congratulations! BBG004731354 is a correct figi for ROSN\n",
      "Downloading ROSN (BBG004731354) for year 2025\n",
      "\n",
      "GAZP data statistics:\n",
      "  - Total rows: 992\n",
      "  - First date: 2025-04-09 03:59:00\n",
      "  - Last date: 2025-04-09 20:49:00\n",
      "Downloading missing data for TATN from 2025-01-01 00:00:00 to 2025-01-02 04:00:00\n",
      "Congratulations! BBG004RVFFC0 is a correct figi for TATN\n",
      "Downloading TATN (BBG004RVFFC0) for year 2025\n"
     ]
    },
    {
     "name": "stderr",
     "output_type": "stream",
     "text": [
      "/Users/aeshef/Desktop/Курсач 2025/pys/market_data.py:241: FutureWarning: 'H' is deprecated and will be removed in a future version, please use 'h' instead.\n",
      "  resampled = df.resample(rule).agg(agg_dict)\n"
     ]
    },
    {
     "name": "stdout",
     "output_type": "stream",
     "text": [
      "\n",
      "LKOH data statistics:\n",
      "  - Total rows: 992\n",
      "  - First date: 2025-04-09 03:59:00\n",
      "  - Last date: 2025-04-09 20:49:00\n",
      "Downloading missing data for MTSS from 2025-01-01 00:00:00 to 2025-01-02 04:01:00\n",
      "Congratulations! BBG004S681W1 is a correct figi for MTSS\n",
      "Downloading MTSS (BBG004S681W1) for year 2025\n"
     ]
    },
    {
     "name": "stderr",
     "output_type": "stream",
     "text": [
      "/Users/aeshef/Desktop/Курсач 2025/pys/market_data.py:241: FutureWarning: 'H' is deprecated and will be removed in a future version, please use 'h' instead.\n",
      "  resampled = df.resample(rule).agg(agg_dict)\n"
     ]
    },
    {
     "name": "stdout",
     "output_type": "stream",
     "text": [
      "\n",
      "GMKN data statistics:\n",
      "  - Total rows: 992\n",
      "  - First date: 2025-04-09 03:59:00\n",
      "  - Last date: 2025-04-09 20:49:00\n",
      "Downloading missing data for ALRS from 2025-01-01 00:00:00 to 2025-01-02 04:03:00\n",
      "Congratulations! BBG004S68B31 is a correct figi for ALRS\n",
      "Downloading ALRS (BBG004S68B31) for year 2025\n"
     ]
    },
    {
     "name": "stderr",
     "output_type": "stream",
     "text": [
      "/Users/aeshef/Desktop/Курсач 2025/pys/market_data.py:241: FutureWarning: 'H' is deprecated and will be removed in a future version, please use 'h' instead.\n",
      "  resampled = df.resample(rule).agg(agg_dict)\n"
     ]
    },
    {
     "name": "stdout",
     "output_type": "stream",
     "text": [
      "TATN: No data found\n",
      "Downloading missing data for TATN from 2025-04-09 20:49:00 to 2025-04-10 00:00:00\n",
      "Congratulations! BBG004RVFFC0 is a correct figi for TATN\n",
      "Downloading TATN (BBG004RVFFC0) for year 2025\n",
      "\n",
      "ROSN data statistics:\n",
      "  - Total rows: 992\n",
      "  - First date: 2025-04-09 03:59:00\n",
      "  - Last date: 2025-04-09 20:49:00\n",
      "Downloading missing data for SNGS from 2025-01-01 00:00:00 to 2025-01-02 04:01:00\n",
      "Congratulations! BBG0047315D0 is a correct figi for SNGS\n",
      "Downloading SNGS (BBG0047315D0) for year 2025\n"
     ]
    },
    {
     "name": "stderr",
     "output_type": "stream",
     "text": [
      "/Users/aeshef/Desktop/Курсач 2025/pys/market_data.py:241: FutureWarning: 'H' is deprecated and will be removed in a future version, please use 'h' instead.\n",
      "  resampled = df.resample(rule).agg(agg_dict)\n",
      "/Users/aeshef/Desktop/Курсач 2025/pys/market_data.py:241: FutureWarning: 'H' is deprecated and will be removed in a future version, please use 'h' instead.\n",
      "  resampled = df.resample(rule).agg(agg_dict)\n"
     ]
    },
    {
     "name": "stdout",
     "output_type": "stream",
     "text": [
      "\n",
      "SBER data statistics:\n",
      "  - Total rows: 992\n",
      "  - First date: 2025-04-09 03:59:00\n",
      "  - Last date: 2025-04-09 20:49:00\n",
      "\n",
      "SBER data:\n",
      "  - Timeframe: 1h\n",
      "  - Total rows: 2345\n",
      "  - First date: 2025-01-02 04:00:00\n",
      "  - Last date: 2025-04-09 20:00:00\n",
      "\n",
      "GAZP data:\n",
      "  - Timeframe: 1h\n",
      "  - Total rows: 2345\n",
      "  - First date: 2025-01-02 04:00:00\n",
      "  - Last date: 2025-04-09 20:00:00\n",
      "\n",
      "LKOH data:\n",
      "  - Timeframe: 1h\n",
      "  - Total rows: 2345\n",
      "  - First date: 2025-01-02 04:00:00\n",
      "  - Last date: 2025-04-09 20:00:00\n",
      "\n",
      "GMKN data:\n",
      "  - Timeframe: 1h\n",
      "  - Total rows: 2345\n",
      "  - First date: 2025-01-02 04:00:00\n",
      "  - Last date: 2025-04-09 20:00:00\n",
      "\n",
      "ROSN data:\n",
      "  - Timeframe: 1h\n",
      "  - Total rows: 2345\n",
      "  - First date: 2025-01-02 04:00:00\n",
      "  - Last date: 2025-04-09 20:00:00\n",
      "Downloading missing data for VTBR from 2025-01-01 00:00:00 to 2025-01-02 04:01:00\n",
      "Congratulations! BBG004730ZJ9 is a correct figi for VTBR\n",
      "Downloading VTBR (BBG004730ZJ9) for year 2025\n",
      "MTSS: No data found\n",
      "Downloading missing data for MTSS from 2025-04-09 20:49:00 to 2025-04-10 00:00:00\n",
      "Congratulations! BBG004S681W1 is a correct figi for MTSS\n",
      "Downloading MTSS (BBG004S681W1) for year 2025\n",
      "ALRS: No data found\n",
      "Downloading missing data for ALRS from 2025-04-09 20:49:00 to 2025-04-10 00:00:00\n",
      "Congratulations! BBG004S68B31 is a correct figi for ALRS\n",
      "Downloading ALRS (BBG004S68B31) for year 2025\n",
      "\n",
      "TATN data statistics:\n",
      "  - Total rows: 990\n",
      "  - First date: 2025-04-09 03:59:00\n",
      "  - Last date: 2025-04-09 20:49:00\n",
      "\n",
      "TATN data:\n",
      "  - Timeframe: 1h\n",
      "  - Total rows: 2345\n",
      "  - First date: 2025-01-02 04:00:00\n",
      "  - Last date: 2025-04-09 20:00:00\n",
      "Downloading missing data for NVTK from 2025-01-01 00:00:00 to 2025-01-02 04:00:00\n"
     ]
    },
    {
     "name": "stderr",
     "output_type": "stream",
     "text": [
      "/Users/aeshef/Desktop/Курсач 2025/pys/market_data.py:241: FutureWarning: 'H' is deprecated and will be removed in a future version, please use 'h' instead.\n",
      "  resampled = df.resample(rule).agg(agg_dict)\n"
     ]
    },
    {
     "name": "stdout",
     "output_type": "stream",
     "text": [
      "Congratulations! BBG00475KKY8 is a correct figi for NVTK\n",
      "Downloading NVTK (BBG00475KKY8) for year 2025\n",
      "SNGS: No data found\n",
      "Downloading missing data for SNGS from 2025-04-09 20:49:00 to 2025-04-10 00:00:00\n",
      "Congratulations! BBG0047315D0 is a correct figi for SNGS\n",
      "Downloading SNGS (BBG0047315D0) for year 2025\n",
      "\n",
      "MTSS data statistics:\n",
      "  - Total rows: 982\n",
      "  - First date: 2025-04-09 03:59:00\n",
      "  - Last date: 2025-04-09 20:49:00\n",
      "\n",
      "MTSS data:\n",
      "  - Timeframe: 1h\n",
      "  - Total rows: 2345\n",
      "  - First date: 2025-01-02 04:00:00\n",
      "  - Last date: 2025-04-09 20:00:00\n",
      "Congratulations! BBG004PYF2N3 is a correct figi for POLY\n",
      "Downloading POLY (BBG004PYF2N3) for year 2025\n"
     ]
    },
    {
     "name": "stderr",
     "output_type": "stream",
     "text": [
      "/Users/aeshef/Desktop/Курсач 2025/pys/market_data.py:241: FutureWarning: 'H' is deprecated and will be removed in a future version, please use 'h' instead.\n",
      "  resampled = df.resample(rule).agg(agg_dict)\n"
     ]
    },
    {
     "name": "stdout",
     "output_type": "stream",
     "text": [
      "VTBR: No data found\n",
      "Downloading missing data for VTBR from 2025-04-09 20:49:00 to 2025-04-10 00:00:00\n",
      "Congratulations! BBG004730ZJ9 is a correct figi for VTBR\n",
      "Downloading VTBR (BBG004730ZJ9) for year 2025\n",
      "Downloading missing data for MVID from 2025-01-01 00:00:00 to 2025-01-02 04:00:00\n",
      "Congratulations! BBG004S68CP5 is a correct figi for MVID\n",
      "Downloading MVID (BBG004S68CP5) for year 2025\n",
      "\n",
      "ALRS data statistics:\n",
      "  - Total rows: 989\n",
      "  - First date: 2025-04-09 03:59:00\n",
      "  - Last date: 2025-04-09 20:49:00\n",
      "Downloading missing data for PHOR from 2025-01-01 00:00:00 to 2025-01-02 04:00:00\n",
      "Congratulations! BBG004S689R0 is a correct figi for PHOR\n",
      "Downloading PHOR (BBG004S689R0) for year 2025\n"
     ]
    },
    {
     "name": "stderr",
     "output_type": "stream",
     "text": [
      "/Users/aeshef/Desktop/Курсач 2025/pys/market_data.py:241: FutureWarning: 'H' is deprecated and will be removed in a future version, please use 'h' instead.\n",
      "  resampled = df.resample(rule).agg(agg_dict)\n"
     ]
    },
    {
     "name": "stdout",
     "output_type": "stream",
     "text": [
      "NVTK: No data found\n",
      "Downloading missing data for NVTK from 2025-04-09 20:49:00 to 2025-04-10 00:00:00\n",
      "Congratulations! BBG00475KKY8 is a correct figi for NVTK\n",
      "Downloading NVTK (BBG00475KKY8) for year 2025\n",
      "\n",
      "SNGS data statistics:\n",
      "  - Total rows: 984\n",
      "  - First date: 2025-04-09 03:59:00\n",
      "  - Last date: 2025-04-09 20:49:00\n",
      "Downloading missing data for SIBN from 2025-01-01 00:00:00 to 2025-01-02 04:00:00\n",
      "Congratulations! BBG004S684M6 is a correct figi for SIBN\n",
      "Downloading SIBN (BBG004S684M6) for year 2025\n"
     ]
    },
    {
     "name": "stderr",
     "output_type": "stream",
     "text": [
      "/Users/aeshef/Desktop/Курсач 2025/pys/market_data.py:241: FutureWarning: 'H' is deprecated and will be removed in a future version, please use 'h' instead.\n",
      "  resampled = df.resample(rule).agg(agg_dict)\n"
     ]
    },
    {
     "name": "stdout",
     "output_type": "stream",
     "text": [
      "\n",
      "VTBR data statistics:\n",
      "  - Total rows: 992\n",
      "  - First date: 2025-04-09 03:59:00\n",
      "  - Last date: 2025-04-09 20:49:00\n",
      "Downloading missing data for AFKS from 2025-01-01 00:00:00 to 2025-01-02 04:01:00\n",
      "Congratulations! BBG004S68614 is a correct figi for AFKS\n",
      "Downloading AFKS (BBG004S68614) for year 2025\n"
     ]
    },
    {
     "name": "stderr",
     "output_type": "stream",
     "text": [
      "/Users/aeshef/Desktop/Курсач 2025/pys/market_data.py:241: FutureWarning: 'H' is deprecated and will be removed in a future version, please use 'h' instead.\n",
      "  resampled = df.resample(rule).agg(agg_dict)\n"
     ]
    },
    {
     "name": "stdout",
     "output_type": "stream",
     "text": [
      "MVID: No data found\n",
      "Downloading missing data for MVID from 2025-04-09 20:49:00 to 2025-04-10 00:00:00\n",
      "Congratulations! BBG004S68CP5 is a correct figi for MVID\n",
      "Downloading MVID (BBG004S68CP5) for year 2025\n",
      "PHOR: No data found\n",
      "Downloading missing data for PHOR from 2025-04-09 20:49:00 to 2025-04-10 00:00:00\n",
      "Congratulations! BBG004S689R0 is a correct figi for PHOR\n",
      "Downloading PHOR (BBG004S689R0) for year 2025\n",
      "SIBN: No data found\n",
      "Downloading missing data for SIBN from 2025-04-09 20:49:00 to 2025-04-10 00:00:00\n",
      "Congratulations! BBG004S684M6 is a correct figi for SIBN\n",
      "Downloading SIBN (BBG004S684M6) for year 2025\n",
      "AFKS: No data found\n",
      "Downloading missing data for AFKS from 2025-04-09 20:49:00 to 2025-04-10 00:00:00\n",
      "Congratulations! BBG004S68614 is a correct figi for AFKS\n",
      "Downloading AFKS (BBG004S68614) for year 2025\n",
      "\n",
      "MVID data statistics:\n",
      "  - Total rows: 939\n",
      "  - First date: 2025-04-09 03:59:00\n",
      "  - Last date: 2025-04-09 20:49:00\n",
      "Downloading missing data for MAGN from 2025-01-01 00:00:00 to 2025-01-02 04:03:00\n",
      "Congratulations! BBG004S68507 is a correct figi for MAGN\n",
      "Downloading MAGN (BBG004S68507) for year 2025\n"
     ]
    },
    {
     "name": "stderr",
     "output_type": "stream",
     "text": [
      "/Users/aeshef/Desktop/Курсач 2025/pys/market_data.py:241: FutureWarning: 'H' is deprecated and will be removed in a future version, please use 'h' instead.\n",
      "  resampled = df.resample(rule).agg(agg_dict)\n"
     ]
    },
    {
     "name": "stdout",
     "output_type": "stream",
     "text": [
      "Rate limit exceeded. Sleeping for 5 seconds...\n",
      "\n",
      "PHOR data statistics:\n",
      "  - Total rows: 967\n",
      "  - First date: 2025-04-09 03:59:00\n",
      "  - Last date: 2025-04-09 20:49:00\n",
      "Downloading missing data for RUAL from 2025-01-01 00:00:00 to 2025-01-02 04:05:00\n",
      "Congratulations! BBG008F2T3T2 is a correct figi for RUAL\n",
      "Downloading RUAL (BBG008F2T3T2) for year 2025\n",
      "Rate limit exceeded. Sleeping for 5 seconds...\n"
     ]
    },
    {
     "name": "stderr",
     "output_type": "stream",
     "text": [
      "/Users/aeshef/Desktop/Курсач 2025/pys/market_data.py:241: FutureWarning: 'H' is deprecated and will be removed in a future version, please use 'h' instead.\n",
      "  resampled = df.resample(rule).agg(agg_dict)\n"
     ]
    },
    {
     "name": "stdout",
     "output_type": "stream",
     "text": [
      "Rate limit exceeded. Sleeping for 5 seconds...\n",
      "\n",
      "SIBN data statistics:\n",
      "  - Total rows: 991\n",
      "  - First date: 2025-04-09 03:59:00\n",
      "  - Last date: 2025-04-09 20:49:00\n"
     ]
    },
    {
     "name": "stderr",
     "output_type": "stream",
     "text": [
      "/Users/aeshef/Desktop/Курсач 2025/pys/market_data.py:241: FutureWarning: 'H' is deprecated and will be removed in a future version, please use 'h' instead.\n",
      "  resampled = df.resample(rule).agg(agg_dict)\n"
     ]
    },
    {
     "name": "stdout",
     "output_type": "stream",
     "text": [
      "\n",
      "NVTK data statistics:\n",
      "  - Total rows: 991\n",
      "  - First date: 2025-04-09 03:59:00\n",
      "  - Last date: 2025-04-09 20:49:00\n"
     ]
    },
    {
     "name": "stderr",
     "output_type": "stream",
     "text": [
      "/Users/aeshef/Desktop/Курсач 2025/pys/market_data.py:241: FutureWarning: 'H' is deprecated and will be removed in a future version, please use 'h' instead.\n",
      "  resampled = df.resample(rule).agg(agg_dict)\n"
     ]
    },
    {
     "name": "stdout",
     "output_type": "stream",
     "text": [
      "Downloading AFKS (BBG004S68614) for year 2025\n",
      "Rate limit exceeded. Sleeping for 5 seconds...\n",
      "Downloading MAGN (BBG004S68507) for year 2025\n",
      "Rate limit exceeded. Sleeping for 5 seconds...\n",
      "Downloading RUAL (BBG008F2T3T2) for year 2025\n",
      "Rate limit exceeded. Sleeping for 5 seconds...\n"
     ]
    }
   ],
   "source": [
    "token = \"t.GVEetX09IVL9qECDUhjThfpg5TrE2Oxw9cUnAIOxcHh35M2sv1YMy9LBfkt73F3WlV_Ik08etZOVrUNI8StLBQ\"\n",
    "your_directory_path = \"/Users/aeshef/Documents/GitHub/kursach/data\"\n",
    "\n",
    "tickers = pd.read_csv(f\"{your_directory_path}/tickers.csv\")\n",
    "tickers_list = [\n",
    "    'SBER',  # Сбербанк\n",
    "    'GAZP',  # Газпром\n",
    "    'LKOH',  # Лукойл\n",
    "    'GMKN',  # ГМК \"Норильский никель\"\n",
    "    'ROSN',  # Роснефть\n",
    "    'TATN',  # Татнефть\n",
    "    'MTSS',  # МТС\n",
    "    'ALRS',  # АК Алроса\n",
    "    'SNGS',  # Сургутнефтегаз\n",
    "    'VTBR',  # ВТБ\n",
    "    'NVTK',  # Новатэк\n",
    "    'POLY',  # Полиметалл\n",
    "    'MVID',  # М.Видео\n",
    "    'PHOR',  # ФосАгро\n",
    "    'SIBN',  # Сибнефть\n",
    "    'AFKS',  # АФК Система\n",
    "    'MAGN',  # Магнитогорский металлургический комбинат\n",
    "    'RUAL'   # Русал\n",
    "]\n",
    "\n",
    "manager = MarketDataManager(token, your_directory_path)\n",
    "\n",
    "multi_ticker_data = manager.get_data_for_multiple_tickers(\n",
    "    tickers=tickers_list, \n",
    "    start_date=\"2025-01-01\", \n",
    "    end_date=\"2025-04-10\", \n",
    "    timeframe=\"1h\"\n",
    ")\n",
    "\n",
    "for ticker, data in multi_ticker_data.items():\n",
    "    if data is not None:\n",
    "        print(f\"\\n{ticker} data preview (1h timeframe):\")\n",
    "        print(data.head())"
   ]
  },
  {
   "cell_type": "code",
   "execution_count": null,
   "id": "94869c9c",
   "metadata": {},
   "outputs": [],
   "source": []
  }
 ],
 "metadata": {
  "kernelspec": {
   "display_name": "Python 3",
   "language": "python",
   "name": "python3"
  },
  "language_info": {
   "codemirror_mode": {
    "name": "ipython",
    "version": 3
   },
   "file_extension": ".py",
   "mimetype": "text/x-python",
   "name": "python",
   "nbconvert_exporter": "python",
   "pygments_lexer": "ipython3",
   "version": "3.9.6"
  }
 },
 "nbformat": 4,
 "nbformat_minor": 5
}
