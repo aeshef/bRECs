{
 "cells": [
  {
   "cell_type": "code",
   "execution_count": 15,
   "id": "33eeb760",
   "metadata": {},
   "outputs": [],
   "source": [
    "import sys\n",
    "import datetime\n",
    "import os\n",
    "sys.path.append('/Users/aeshef/Documents/GitHub/kursach/pys')\n",
    "import importlib\n",
    "import data_integration\n",
    "importlib.reload(data_integration)\n",
    "\n",
    "from data_integration import DataIntegrator"
   ]
  },
  {
   "cell_type": "code",
   "execution_count": 16,
   "id": "6f5b6ea5",
   "metadata": {},
   "outputs": [
    {
     "name": "stderr",
     "output_type": "stream",
     "text": [
      "/Users/aeshef/Library/Python/3.9/lib/python/site-packages/numpy/lib/nanfunctions.py:1215: RuntimeWarning: Mean of empty slice\n",
      "  return np.nanmean(a, axis, out=out, keepdims=keepdims)\n",
      "/Users/aeshef/Library/Python/3.9/lib/python/site-packages/numpy/lib/nanfunctions.py:1215: RuntimeWarning: Mean of empty slice\n",
      "  return np.nanmean(a, axis, out=out, keepdims=keepdims)\n"
     ]
    }
   ],
   "source": [
    "base_path = '/Users/aeshef/Documents/GitHub/kursach/data/processed_data'\n",
    "tickers = [\n",
    "    'SBER',  # Сбербанк\n",
    "    'GAZP',  # Газпром\n",
    "    'LKOH',  # Лукойл\n",
    "    'GMKN',  # ГМК \"Норильский никель\"\n",
    "    'ROSN',  # Роснефть\n",
    "    'TATN',  # Татнефть\n",
    "    'MTSS',  # МТС\n",
    "    'ALRS',  # АК Алроса\n",
    "    'SNGS',  # Сургутнефтегаз\n",
    "    'VTBR',  # ВТБ\n",
    "    'NVTK',  # Новатэк\n",
    "    'MVID',  # М.Видео\n",
    "    'PHOR',  # ФосАгро\n",
    "    'SIBN',  # Сибнефть\n",
    "    'AFKS',  # АФК Система\n",
    "    'MAGN',  # Магнитогорский металлургический комбинат\n",
    "    'RUAL'   # Русал\n",
    "]\n",
    "\n",
    "integrator = DataIntegrator(base_path)\n",
    "overall_df = integrator.load_multiple_tickers(tickers)"
   ]
  },
  {
   "cell_type": "code",
   "execution_count": 21,
   "id": "5c5dc791",
   "metadata": {},
   "outputs": [
    {
     "data": {
      "text/plain": [
       "date                            0\n",
       "open                            0\n",
       "max                             0\n",
       "min                             0\n",
       "close                           0\n",
       "                             ... \n",
       "sentiment_zscore_14d_std7       0\n",
       "sentiment_zscore_14d_std14      0\n",
       "sentiment_return_corr         196\n",
       "news_count_volatility           0\n",
       "ticker                          0\n",
       "Length: 214, dtype: int64"
      ]
     },
     "execution_count": 21,
     "metadata": {},
     "output_type": "execute_result"
    }
   ],
   "source": [
    "overall_df.isna().sum()"
   ]
  },
  {
   "cell_type": "code",
   "execution_count": null,
   "id": "2bf4692c",
   "metadata": {},
   "outputs": [],
   "source": []
  }
 ],
 "metadata": {
  "kernelspec": {
   "display_name": "Python 3",
   "language": "python",
   "name": "python3"
  },
  "language_info": {
   "codemirror_mode": {
    "name": "ipython",
    "version": 3
   },
   "file_extension": ".py",
   "mimetype": "text/x-python",
   "name": "python",
   "nbconvert_exporter": "python",
   "pygments_lexer": "ipython3",
   "version": "3.9.6"
  }
 },
 "nbformat": 4,
 "nbformat_minor": 5
}
