{
 "cells": [
  {
   "cell_type": "code",
   "execution_count": 1,
   "id": "16648dd8",
   "metadata": {},
   "outputs": [
    {
     "name": "stdout",
     "output_type": "stream",
     "text": [
      "Defaulting to user installation because normal site-packages is not writeable\n",
      "Requirement already satisfied: bs4 in /Users/aeshef/Library/Python/3.9/lib/python/site-packages (0.0.2)\n",
      "Requirement already satisfied: beautifulsoup4 in /Users/aeshef/Library/Python/3.9/lib/python/site-packages (from bs4) (4.13.3)\n",
      "Requirement already satisfied: soupsieve>1.2 in /Users/aeshef/Library/Python/3.9/lib/python/site-packages (from beautifulsoup4->bs4) (2.6)\n",
      "Requirement already satisfied: typing-extensions>=4.0.0 in /Users/aeshef/Library/Python/3.9/lib/python/site-packages (from beautifulsoup4->bs4) (4.12.2)\n",
      "\n",
      "\u001b[1m[\u001b[0m\u001b[34;49mnotice\u001b[0m\u001b[1;39;49m]\u001b[0m\u001b[39;49m A new release of pip is available: \u001b[0m\u001b[31;49m24.3.1\u001b[0m\u001b[39;49m -> \u001b[0m\u001b[32;49m25.0.1\u001b[0m\n",
      "\u001b[1m[\u001b[0m\u001b[34;49mnotice\u001b[0m\u001b[1;39;49m]\u001b[0m\u001b[39;49m To update, run: \u001b[0m\u001b[32;49m/Library/Developer/CommandLineTools/usr/bin/python3 -m pip install --upgrade pip\u001b[0m\n"
     ]
    }
   ],
   "source": [
    "!pip install bs4"
   ]
  },
  {
   "cell_type": "code",
   "execution_count": 2,
   "id": "0f0bfb4b",
   "metadata": {},
   "outputs": [
    {
     "name": "stderr",
     "output_type": "stream",
     "text": [
      "/Users/aeshef/Library/Python/3.9/lib/python/site-packages/urllib3/__init__.py:35: NotOpenSSLWarning: urllib3 v2 only supports OpenSSL 1.1.1+, currently the 'ssl' module is compiled with 'LibreSSL 2.8.3'. See: https://github.com/urllib3/urllib3/issues/3020\n",
      "  warnings.warn(\n"
     ]
    },
    {
     "name": "stdout",
     "output_type": "stream",
     "text": [
      "Processing SBER...\n",
      "Data saved to /Users/aeshef/Documents/GitHub/kursach/data/processed_data/SBER/SBER_financial_data.csv\n",
      "Processing GAZP...\n",
      "Data saved to /Users/aeshef/Documents/GitHub/kursach/data/processed_data/GAZP/GAZP_financial_data.csv\n",
      "Processing LKOH...\n",
      "Data saved to /Users/aeshef/Documents/GitHub/kursach/data/processed_data/LKOH/LKOH_financial_data.csv\n",
      "Processing GMKN...\n",
      "Data saved to /Users/aeshef/Documents/GitHub/kursach/data/processed_data/GMKN/GMKN_financial_data.csv\n",
      "Processing ROSN...\n",
      "Data saved to /Users/aeshef/Documents/GitHub/kursach/data/processed_data/ROSN/ROSN_financial_data.csv\n",
      "Processing TATN...\n",
      "Data saved to /Users/aeshef/Documents/GitHub/kursach/data/processed_data/TATN/TATN_financial_data.csv\n",
      "Processing MTSS...\n",
      "Data saved to /Users/aeshef/Documents/GitHub/kursach/data/processed_data/MTSS/MTSS_financial_data.csv\n",
      "Processing ALRS...\n",
      "Data saved to /Users/aeshef/Documents/GitHub/kursach/data/processed_data/ALRS/ALRS_financial_data.csv\n",
      "Processing SNGS...\n",
      "Data saved to /Users/aeshef/Documents/GitHub/kursach/data/processed_data/SNGS/SNGS_financial_data.csv\n",
      "Processing VTBR...\n",
      "Data saved to /Users/aeshef/Documents/GitHub/kursach/data/processed_data/VTBR/VTBR_financial_data.csv\n",
      "Processing NVTK...\n",
      "Data saved to /Users/aeshef/Documents/GitHub/kursach/data/processed_data/NVTK/NVTK_financial_data.csv\n",
      "Processing MVID...\n",
      "Data saved to /Users/aeshef/Documents/GitHub/kursach/data/processed_data/MVID/MVID_financial_data.csv\n",
      "Processing PHOR...\n",
      "Data saved to /Users/aeshef/Documents/GitHub/kursach/data/processed_data/PHOR/PHOR_financial_data.csv\n",
      "Processing SIBN...\n",
      "Data saved to /Users/aeshef/Documents/GitHub/kursach/data/processed_data/SIBN/SIBN_financial_data.csv\n",
      "Processing AFKS...\n",
      "Data saved to /Users/aeshef/Documents/GitHub/kursach/data/processed_data/AFKS/AFKS_financial_data.csv\n",
      "Processing MAGN...\n",
      "Data saved to /Users/aeshef/Documents/GitHub/kursach/data/processed_data/MAGN/MAGN_financial_data.csv\n",
      "Processing RUAL...\n",
      "Data saved to /Users/aeshef/Documents/GitHub/kursach/data/processed_data/RUAL/RUAL_financial_data.csv\n"
     ]
    }
   ],
   "source": [
    "import sys\n",
    "sys.path.append('/Users/aeshef/Documents/GitHub/kursach/pys')\n",
    "\n",
    "import fundamental_data\n",
    "import importlib\n",
    "importlib.reload(fundamental_data)\n",
    "\n",
    "from fundamental_data import FinamFinancialParser\n",
    "\n",
    "tickers_list = [\n",
    "    'SBER', 'GAZP', 'LKOH', 'GMKN', 'ROSN', \n",
    "    'TATN', 'MTSS', 'ALRS', 'SNGS', 'VTBR', \n",
    "    'NVTK', 'MVID', 'PHOR', 'SIBN', \n",
    "    'AFKS', 'MAGN', 'RUAL'\n",
    "]\n",
    "\n",
    "for ticker in tickers_list:\n",
    "    print(f\"Processing {ticker}...\")\n",
    "    parser = FinamFinancialParser(ticker)\n",
    "    financial_data_df = parser.parse_financial_data()\n",
    "    \n",
    "    if financial_data_df is not None:\n",
    "        parser.save_to_csv(financial_data_df)\n",
    "    else:\n",
    "        print(f\"No data found for {ticker}.\")"
   ]
  },
  {
   "cell_type": "code",
   "execution_count": null,
   "id": "6ce70e74",
   "metadata": {},
   "outputs": [],
   "source": []
  }
 ],
 "metadata": {
  "kernelspec": {
   "display_name": "Python 3",
   "language": "python",
   "name": "python3"
  },
  "language_info": {
   "codemirror_mode": {
    "name": "ipython",
    "version": 3
   },
   "file_extension": ".py",
   "mimetype": "text/x-python",
   "name": "python",
   "nbconvert_exporter": "python",
   "pygments_lexer": "ipython3",
   "version": "3.9.6"
  }
 },
 "nbformat": 4,
 "nbformat_minor": 5
}
