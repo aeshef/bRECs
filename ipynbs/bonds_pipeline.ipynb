{
 "cells": [
  {
   "cell_type": "code",
   "execution_count": 15,
   "id": "0b7e0dfb",
   "metadata": {},
   "outputs": [
    {
     "name": "stdout",
     "output_type": "stream",
     "text": [
      "The autoreload extension is already loaded. To reload it, use:\n",
      "  %reload_ext autoreload\n"
     ]
    }
   ],
   "source": [
    "%load_ext autoreload\n",
    "%autoreload 2"
   ]
  },
  {
   "cell_type": "code",
   "execution_count": 2,
   "id": "5c5c53aa",
   "metadata": {},
   "outputs": [],
   "source": [
    "import json\n",
    "import os\n",
    "import subprocess\n",
    "import sys\n",
    "import datetime\n",
    "from typing import Any, Dict, List, Optional, Type, Union\n",
    "from datetime import datetime\n",
    "import pandas as pd\n",
    "import os\n",
    "import sys\n",
    "import numpy as np\n",
    "import importlib\n",
    "from concurrent.futures import ThreadPoolExecutor\n",
    "\n",
    "from pys.data_collection.bonds_parser import MOEXBondHistoricalParser\n"
   ]
  },
  {
   "cell_type": "code",
   "execution_count": 3,
   "id": "bb76662f",
   "metadata": {},
   "outputs": [
    {
     "name": "stderr",
     "output_type": "stream",
     "text": [
      "2025-04-25 17:38:34 - MOEXBondHistoricalParser - INFO - MOEX Bond Parser initialized\n",
      "2025-04-25 17:38:34 - MOEXBondHistoricalParser - INFO - Запуск массового парсинга данных с 2024-01-01 по 2025-04-24\n",
      "2025-04-25 17:38:34 - MOEXBondHistoricalParser - INFO - Запрошен период с 2024-01-01 по 2025-04-24\n",
      "2025-04-25 17:38:34 - MOEXBondHistoricalParser - INFO - Получение облигаций за период с 2024-01-01 по 2025-04-24\n",
      "2025-04-25 17:38:34 - MOEXBondHistoricalParser - INFO - Обработка даты: 2024-01-01 (рабочий день)\n",
      "2025-04-25 17:38:34 - MOEXBondHistoricalParser - INFO - Получение списка облигаций на 2024-01-01\n"
     ]
    },
    {
     "ename": "KeyboardInterrupt",
     "evalue": "",
     "output_type": "error",
     "traceback": [
      "\u001b[31m---------------------------------------------------------------------------\u001b[39m",
      "\u001b[31mKeyboardInterrupt\u001b[39m                         Traceback (most recent call last)",
      "\u001b[36mCell\u001b[39m\u001b[36m \u001b[39m\u001b[32mIn[3]\u001b[39m\u001b[32m, line 3\u001b[39m\n\u001b[32m      1\u001b[39m bond_parser = MOEXBondHistoricalParser()\n\u001b[32m----> \u001b[39m\u001b[32m3\u001b[39m result = \u001b[43mbond_parser\u001b[49m\u001b[43m.\u001b[49m\u001b[43mparse_from_2024_to_now\u001b[49m\u001b[43m(\u001b[49m\n\u001b[32m      4\u001b[39m \u001b[43m    \u001b[49m\u001b[43minclude_non_trading_days\u001b[49m\u001b[43m=\u001b[49m\u001b[38;5;28;43;01mTrue\u001b[39;49;00m\u001b[43m,\u001b[49m\u001b[43m  \u001b[49m\u001b[38;5;66;43;03m# Включаем выходные дни\u001b[39;49;00m\n\u001b[32m      5\u001b[39m \u001b[43m    \u001b[49m\u001b[43manalyze_continuity\u001b[49m\u001b[43m=\u001b[49m\u001b[38;5;28;43;01mTrue\u001b[39;49;00m\u001b[43m,\u001b[49m\u001b[43m        \u001b[49m\u001b[38;5;66;43;03m# Анализируем непрерывность и создаем полный датасет\u001b[39;49;00m\n\u001b[32m      6\u001b[39m \u001b[43m    \u001b[49m\u001b[43myield_range\u001b[49m\u001b[43m=\u001b[49m\u001b[43m(\u001b[49m\u001b[32;43m0\u001b[39;49m\u001b[43m,\u001b[49m\u001b[43m \u001b[49m\u001b[32;43m100\u001b[39;49m\u001b[43m)\u001b[49m\u001b[43m,\u001b[49m\u001b[43m           \u001b[49m\u001b[38;5;66;43;03m# Широкий диапазон - берем все\u001b[39;49;00m\n\u001b[32m      7\u001b[39m \u001b[43m    \u001b[49m\u001b[43mprice_range\u001b[49m\u001b[43m=\u001b[49m\u001b[43m(\u001b[49m\u001b[32;43m0\u001b[39;49m\u001b[43m,\u001b[49m\u001b[43m \u001b[49m\u001b[32;43m100\u001b[39;49m\u001b[43m)\u001b[49m\u001b[43m,\u001b[49m\u001b[43m           \u001b[49m\u001b[38;5;66;43;03m# Широкий диапазон - берем все\u001b[39;49;00m\n\u001b[32m      8\u001b[39m \u001b[43m    \u001b[49m\u001b[43mduration_range\u001b[49m\u001b[43m=\u001b[49m\u001b[43m(\u001b[49m\u001b[32;43m0\u001b[39;49m\u001b[43m,\u001b[49m\u001b[43m \u001b[49m\u001b[32;43m7200\u001b[39;49m\u001b[43m)\u001b[49m\u001b[43m         \u001b[49m\u001b[38;5;66;43;03m# Широкий диапазон - берем все\u001b[39;49;00m\n\u001b[32m      9\u001b[39m \u001b[43m)\u001b[49m\n\u001b[32m     11\u001b[39m \u001b[38;5;28mprint\u001b[39m(\u001b[33mf\u001b[39m\u001b[33m\"\u001b[39m\u001b[33mВсего дней с данными: \u001b[39m\u001b[38;5;132;01m{\u001b[39;00m\u001b[38;5;28mlen\u001b[39m(result)\u001b[38;5;132;01m}\u001b[39;00m\u001b[33m\"\u001b[39m)\n\u001b[32m     12\u001b[39m trading_days = \u001b[38;5;28msum\u001b[39m(\u001b[32m1\u001b[39m \u001b[38;5;28;01mfor\u001b[39;00m date \u001b[38;5;129;01min\u001b[39;00m result.keys() \u001b[38;5;28;01mif\u001b[39;00m datetime.strptime(date, \u001b[33m'\u001b[39m\u001b[33m%\u001b[39m\u001b[33mY-\u001b[39m\u001b[33m%\u001b[39m\u001b[33mm-\u001b[39m\u001b[38;5;132;01m%d\u001b[39;00m\u001b[33m'\u001b[39m).weekday() < \u001b[32m5\u001b[39m)\n",
      "\u001b[36mFile \u001b[39m\u001b[32m~/Documents/GitHub/kursach/pys/data_collection/bonds_parser.py:926\u001b[39m, in \u001b[36mMOEXBondHistoricalParser.parse_from_2024_to_now\u001b[39m\u001b[34m(self, include_non_trading_days, analyze_continuity, **filter_params)\u001b[39m\n\u001b[32m    922\u001b[39m end_date = \u001b[38;5;28mself\u001b[39m._get_last_trading_day()\n\u001b[32m    924\u001b[39m \u001b[38;5;28mself\u001b[39m.logger.info(\u001b[33mf\u001b[39m\u001b[33m\"\u001b[39m\u001b[33mЗапуск массового парсинга данных с \u001b[39m\u001b[38;5;132;01m{\u001b[39;00mstart_date.strftime(\u001b[33m'\u001b[39m\u001b[33m%\u001b[39m\u001b[33mY-\u001b[39m\u001b[33m%\u001b[39m\u001b[33mm-\u001b[39m\u001b[38;5;132;01m%d\u001b[39;00m\u001b[33m'\u001b[39m)\u001b[38;5;132;01m}\u001b[39;00m\u001b[33m по \u001b[39m\u001b[38;5;132;01m{\u001b[39;00mend_date.strftime(\u001b[33m'\u001b[39m\u001b[33m%\u001b[39m\u001b[33mY-\u001b[39m\u001b[33m%\u001b[39m\u001b[33mm-\u001b[39m\u001b[38;5;132;01m%d\u001b[39;00m\u001b[33m'\u001b[39m)\u001b[38;5;132;01m}\u001b[39;00m\u001b[33m\"\u001b[39m)\n\u001b[32m--> \u001b[39m\u001b[32m926\u001b[39m result = \u001b[38;5;28;43mself\u001b[39;49m\u001b[43m.\u001b[49m\u001b[43mget_bonds_for_period\u001b[49m\u001b[43m(\u001b[49m\n\u001b[32m    927\u001b[39m \u001b[43m    \u001b[49m\u001b[43mstart_date\u001b[49m\u001b[43m=\u001b[49m\u001b[43mstart_date\u001b[49m\u001b[43m,\u001b[49m\n\u001b[32m    928\u001b[39m \u001b[43m    \u001b[49m\u001b[43mend_date\u001b[49m\u001b[43m=\u001b[49m\u001b[43mend_date\u001b[49m\u001b[43m,\u001b[49m\n\u001b[32m    929\u001b[39m \u001b[43m    \u001b[49m\u001b[43minclude_non_trading_days\u001b[49m\u001b[43m=\u001b[49m\u001b[43minclude_non_trading_days\u001b[49m\u001b[43m,\u001b[49m\n\u001b[32m    930\u001b[39m \u001b[43m    \u001b[49m\u001b[43m*\u001b[49m\u001b[43m*\u001b[49m\u001b[43mfilter_params\u001b[49m\n\u001b[32m    931\u001b[39m \u001b[43m\u001b[49m\u001b[43m)\u001b[49m\n\u001b[32m    933\u001b[39m \u001b[38;5;28;01mif\u001b[39;00m analyze_continuity \u001b[38;5;129;01mand\u001b[39;00m result:\n\u001b[32m    934\u001b[39m     \u001b[38;5;28mself\u001b[39m.logger.info(\u001b[33m\"\u001b[39m\u001b[33mВыполняем анализ непрерывности данных...\u001b[39m\u001b[33m\"\u001b[39m)\n",
      "\u001b[36mFile \u001b[39m\u001b[32m~/Documents/GitHub/kursach/pys/data_collection/bonds_parser.py:269\u001b[39m, in \u001b[36mMOEXBondHistoricalParser.get_bonds_for_period\u001b[39m\u001b[34m(self, start_date, end_date, include_non_trading_days, **filter_params)\u001b[39m\n\u001b[32m    266\u001b[39m \u001b[38;5;28mself\u001b[39m.logger.info(\u001b[33mf\u001b[39m\u001b[33m\"\u001b[39m\u001b[33mОбработка даты: \u001b[39m\u001b[38;5;132;01m{\u001b[39;00mdate_key\u001b[38;5;132;01m}\u001b[39;00m\u001b[33m (\u001b[39m\u001b[38;5;132;01m{\u001b[39;00m\u001b[33m'\u001b[39m\u001b[33mрабочий день\u001b[39m\u001b[33m'\u001b[39m\u001b[38;5;250m \u001b[39m\u001b[38;5;28;01mif\u001b[39;00m\u001b[38;5;250m \u001b[39mis_trading_day\u001b[38;5;250m \u001b[39m\u001b[38;5;28;01melse\u001b[39;00m\u001b[38;5;250m \u001b[39m\u001b[33m'\u001b[39m\u001b[33mвыходной\u001b[39m\u001b[33m'\u001b[39m\u001b[38;5;132;01m}\u001b[39;00m\u001b[33m)\u001b[39m\u001b[33m\"\u001b[39m)\n\u001b[32m    268\u001b[39m \u001b[38;5;28;01mif\u001b[39;00m is_trading_day:\n\u001b[32m--> \u001b[39m\u001b[32m269\u001b[39m     bonds = \u001b[38;5;28;43mself\u001b[39;49m\u001b[43m.\u001b[49m\u001b[43mget_available_bonds\u001b[49m\u001b[43m(\u001b[49m\u001b[43mdate\u001b[49m\u001b[43m=\u001b[49m\u001b[43mcurrent_date\u001b[49m\u001b[43m,\u001b[49m\u001b[43m \u001b[49m\u001b[43m*\u001b[49m\u001b[43m*\u001b[49m\u001b[43mfilter_params\u001b[49m\u001b[43m)\u001b[49m\n\u001b[32m    271\u001b[39m     \u001b[38;5;28;01mif\u001b[39;00m bonds:\n\u001b[32m    272\u001b[39m         result[date_key] = bonds\n",
      "\u001b[36mFile \u001b[39m\u001b[32m~/Documents/GitHub/kursach/pys/data_collection/bonds_parser.py:128\u001b[39m, in \u001b[36mMOEXBondHistoricalParser.get_available_bonds\u001b[39m\u001b[34m(self, date, yield_range, price_range, duration_range, volume_threshold, bond_volume_threshold, is_qualified_investors, coupon_type, emitent, issue_year_range, known_coupon_payments, use_existing_data)\u001b[39m\n\u001b[32m    125\u001b[39m         all_bonds = \u001b[38;5;28;01mNone\u001b[39;00m\n\u001b[32m    127\u001b[39m \u001b[38;5;28;01mif\u001b[39;00m all_bonds \u001b[38;5;129;01mis\u001b[39;00m \u001b[38;5;28;01mNone\u001b[39;00m:\n\u001b[32m--> \u001b[39m\u001b[32m128\u001b[39m     all_bonds = \u001b[38;5;28;43mself\u001b[39;49m\u001b[43m.\u001b[49m\u001b[43m_get_all_bonds_for_date\u001b[49m\u001b[43m(\u001b[49m\u001b[43mdate\u001b[49m\u001b[43m)\u001b[49m\n\u001b[32m    129\u001b[39m     \u001b[38;5;28;01mif\u001b[39;00m all_bonds:\n\u001b[32m    130\u001b[39m         all_bonds_df = pd.DataFrame(all_bonds)\n",
      "\u001b[36mFile \u001b[39m\u001b[32m~/Documents/GitHub/kursach/pys/data_collection/bonds_parser.py:388\u001b[39m, in \u001b[36mMOEXBondHistoricalParser._get_all_bonds_for_date\u001b[39m\u001b[34m(self, date)\u001b[39m\n\u001b[32m    385\u001b[39m     \u001b[38;5;28mself\u001b[39m.logger.debug(\u001b[33mf\u001b[39m\u001b[33m\"\u001b[39m\u001b[33mЗапрос облигаций для группы \u001b[39m\u001b[38;5;132;01m{\u001b[39;00mboard_group\u001b[38;5;132;01m}\u001b[39;00m\u001b[33m на дату \u001b[39m\u001b[38;5;132;01m{\u001b[39;00mdate_str\u001b[38;5;132;01m}\u001b[39;00m\u001b[33m: \u001b[39m\u001b[38;5;132;01m{\u001b[39;00murl\u001b[38;5;132;01m}\u001b[39;00m\u001b[33m\"\u001b[39m)\n\u001b[32m    387\u001b[39m \u001b[38;5;28;01mtry\u001b[39;00m:\n\u001b[32m--> \u001b[39m\u001b[32m388\u001b[39m     \u001b[43mtime\u001b[49m\u001b[43m.\u001b[49m\u001b[43msleep\u001b[49m\u001b[43m(\u001b[49m\u001b[38;5;28;43mself\u001b[39;49m\u001b[43m.\u001b[49m\u001b[43mAPI_DELAY\u001b[49m\u001b[43m)\u001b[49m\n\u001b[32m    389\u001b[39m     response = requests.get(url)\n\u001b[32m    390\u001b[39m     response.raise_for_status()\n",
      "\u001b[31mKeyboardInterrupt\u001b[39m: "
     ]
    }
   ],
   "source": [
    "bond_parser = MOEXBondHistoricalParser()\n",
    "\n",
    "result = bond_parser.parse_from_2024_to_now(\n",
    "    include_non_trading_days=True,  # Включаем выходные дни\n",
    "    analyze_continuity=True,        # Анализируем непрерывность и создаем полный датасет\n",
    "    yield_range=(0, 100),           # Широкий диапазон - берем все\n",
    "    price_range=(0, 100),           # Широкий диапазон - берем все\n",
    "    duration_range=(0, 7200)         # Широкий диапазон - берем все\n",
    ")\n",
    "\n",
    "print(f\"Всего дней с данными: {len(result)}\")\n",
    "trading_days = sum(1 for date in result.keys() if datetime.strptime(date, '%Y-%m-%d').weekday() < 5)\n",
    "print(f\"Торговых дней: {trading_days}\")\n",
    "print(f\"Нерабочих дней с данными: {len(result) - trading_days}\")\n",
    "\n"
   ]
  },
  {
   "cell_type": "code",
   "execution_count": 4,
   "id": "13e0491e",
   "metadata": {},
   "outputs": [
    {
     "name": "stderr",
     "output_type": "stream",
     "text": [
      "2025-04-25 17:38:44 - MOEXBondHistoricalParser - INFO - Поиск оптимального порога непрерывности для периода с 2024-01-01 по 2025-04-22\n",
      "2025-04-25 17:38:44 - MOEXBondHistoricalParser - INFO - Анализ непрерывности данных по облигациям с 2024-01-01 по 2025-04-22\n",
      "2025-04-25 17:38:44 - MOEXBondHistoricalParser - INFO - Найдено 342 рабочих дней в указанном периоде\n",
      "2025-04-25 17:38:44 - MOEXBondHistoricalParser - INFO - Найдено 340 дней с доступными данными\n"
     ]
    },
    {
     "name": "stderr",
     "output_type": "stream",
     "text": [
      "2025-04-25 17:38:44 - MOEXBondHistoricalParser - INFO - Всего уникальных облигаций: 355\n",
      "2025-04-25 17:38:44 - MOEXBondHistoricalParser - INFO - Облигаций с непрерывными данными: 0 (0.00%)\n",
      "2025-04-25 17:38:44 - MOEXBondHistoricalParser - INFO - Результаты анализа сохранены в /Users/aeshef/Documents/GitHub/kursach/data/processed_data/BONDS/moex/continuity_analysis_20240101_20250422\n",
      "2025-04-25 17:38:44 - MOEXBondHistoricalParser - INFO - При пороге 99%: доступно 49 облигаций\n",
      "2025-04-25 17:38:44 - MOEXBondHistoricalParser - INFO - Найден оптимальный порог: 99%\n",
      "2025-04-25 17:38:44 - MOEXBondHistoricalParser - INFO - Генерация датасета с порогом непрерывности 99% за период с 2024-01-01 по 2025-04-22\n",
      "2025-04-25 17:38:44 - MOEXBondHistoricalParser - INFO - Анализ непрерывности данных по облигациям с 2024-01-01 по 2025-04-22\n",
      "2025-04-25 17:38:44 - MOEXBondHistoricalParser - INFO - Найдено 342 рабочих дней в указанном периоде\n",
      "2025-04-25 17:38:44 - MOEXBondHistoricalParser - INFO - Найдено 340 дней с доступными данными\n"
     ]
    },
    {
     "name": "stdout",
     "output_type": "stream",
     "text": [
      "Оптимальный порог непрерывности: 99%\n"
     ]
    },
    {
     "name": "stderr",
     "output_type": "stream",
     "text": [
      "2025-04-25 17:38:44 - MOEXBondHistoricalParser - INFO - Всего уникальных облигаций: 355\n",
      "2025-04-25 17:38:44 - MOEXBondHistoricalParser - INFO - Облигаций с непрерывными данными: 0 (0.00%)\n",
      "2025-04-25 17:38:44 - MOEXBondHistoricalParser - INFO - Найдено 49 облигаций с порогом непрерывности не менее 99%\n",
      "2025-04-25 17:38:45 - MOEXBondHistoricalParser - INFO - Датасет с порогом непрерывности 99% создан и сохранен в /Users/aeshef/Documents/GitHub/kursach/data/processed_data/BONDS/moex/threshold_dataset_20240101_20250422_99\n",
      "2025-04-25 17:38:45 - MOEXBondHistoricalParser - INFO - Всего дат: 340, облигаций: 49\n"
     ]
    },
    {
     "name": "stdout",
     "output_type": "stream",
     "text": [
      "Создан датасет с 49 облигациями и 339 датами\n"
     ]
    }
   ],
   "source": [
    "optimal_threshold = bond_parser.find_optimal_threshold(\n",
    "    start_date=datetime(2024, 1, 1),\n",
    "    end_date=datetime(2025, 4, 22),\n",
    "    min_bonds=20,\n",
    "    max_threshold=99\n",
    ")\n",
    "\n",
    "print(f\"Оптимальный порог непрерывности: {optimal_threshold}%\")\n",
    "\n",
    "dataset = bond_parser.generate_dataset_with_threshold(\n",
    "    start_date=datetime(2024, 1, 1),\n",
    "    end_date=datetime(2025, 4, 22),\n",
    "    continuity_threshold=optimal_threshold\n",
    ")\n",
    "\n",
    "if dataset is not None:\n",
    "    print(f\"Создан датасет с {len(dataset['secid'].unique())} облигациями и {len(dataset['date'].unique())} датами\")\n",
    "else:\n",
    "    print(\"Не удалось создать датасет\")"
   ]
  },
  {
   "cell_type": "code",
   "execution_count": 16,
   "id": "831c7170",
   "metadata": {},
   "outputs": [],
   "source": [
    "import sys\n",
    "import importlib\n",
    "\n",
    "from pys.data_collection.private_info import BASE_PATH\n",
    "from pys.data_collection.bonds_processor import run_pipeline_bonds_processor"
   ]
  },
  {
   "cell_type": "code",
   "execution_count": 17,
   "id": "0f141401",
   "metadata": {},
   "outputs": [
    {
     "name": "stderr",
     "output_type": "stream",
     "text": [
      "2025-04-25 17:53:17 - BondsProcessor - INFO - Loaded previous recommendations from 2025-04-25\n",
      "2025-04-25 17:53:17 - BondsProcessor - INFO - Loading direct data from /Users/aeshef/Documents/GitHub/kursach/data/processed_data/BONDS/moex/threshold_dataset_20240101_20250422_99/bonds_dataset.csv\n",
      "2025-04-25 17:53:17 - BondsProcessor - INFO - Renamed columns: {'secid': 'security_code', 'name': 'full_name', 'price': 'price_pct', 'duration': 'duration_months', 'maturity_date': 'expiration_date', 'volume': 'trading_volume', 'value': 'trading_value'}\n",
      "2025-04-25 17:53:17 - BondsProcessor - INFO - Created duration_years column from duration_months\n",
      "2025-04-25 17:53:17 - BondsProcessor - INFO - Created snapshot_date from date column\n",
      "2025-04-25 17:53:17 - BondsProcessor - INFO - Filtered data to use only latest snapshot: 2025-04-22 00:00:00\n",
      "2025-04-25 17:53:17 - BondsProcessor - INFO - Starting filters with 49 bonds\n",
      "2025-04-25 17:53:17 - BondsProcessor - INFO - After min_yield filter: 14 bonds\n",
      "2025-04-25 17:53:17 - BondsProcessor - INFO - After max_yield filter: 11 bonds\n",
      "2025-04-25 17:53:17 - BondsProcessor - INFO - After duration filter: 10 bonds\n",
      "2025-04-25 17:53:17 - BondsProcessor - INFO - After excluded_issuers filter: 10 bonds (-0)\n",
      "2025-04-25 17:53:17 - BondsProcessor - INFO - After removing duplicates: 10 bonds\n",
      "2025-04-25 17:53:17 - BondsProcessor - INFO - Removed 0 bonds with missing yield\n",
      "2025-04-25 17:53:17 - BondsProcessor - INFO - Removed 0 bonds with missing duration_years\n",
      "2025-04-25 17:53:17 - BondsProcessor - INFO - Removed 0 bonds with missing price_pct\n",
      "2025-04-25 17:53:17 - BondsProcessor - INFO - Final filtered dataset: 10 bonds from initial 49\n",
      "2025-04-25 17:53:17 - BondsProcessor - INFO - Calculated metrics for 10 bonds\n",
      "2025-04-25 17:53:17 - BondsProcessor - INFO - Processed 10 bonds from direct data\n",
      "2025-04-25 17:53:17 - BondsProcessor - INFO - Detected market condition: high_rate\n",
      "2025-04-25 17:53:17 - BondsProcessor - INFO - Available 10 bonds for portfolio formation\n",
      "2025-04-25 17:53:17 - BondsProcessor - INFO - Kept 3 bonds from previous portfolio, added 2 new ones\n",
      "2025-04-25 17:53:17 - BondsProcessor - INFO - Calculated weights using 'inverse_duration' strategy\n",
      "2025-04-25 17:53:17 - BondsProcessor - INFO - Current recommendations saved for future use\n",
      "2025-04-25 17:53:17 - BondsProcessor - INFO - Portfolio formed with 5 bonds\n",
      "2025-04-25 17:53:17 - BondsProcessor - INFO - Visualization saved to /Users/aeshef/Documents/GitHub/kursach/data/processed_data/BONDS/results/bond_universe_20250425.png\n"
     ]
    },
    {
     "name": "stdout",
     "output_type": "stream",
     "text": [
      "Обработано 10 облигаций\n",
      "\n",
      "=== Рекомендованный облигационный портфель ===\n",
      "      security_code   full_name  yield  duration_years  weight\n",
      "16726  RU000A0JUAH8  РЖД-30 обл  20.63        0.510833  0.3305\n",
      "16696  KG000A3LSJ06  Кыргыз. 02  20.77        0.658333  0.2565\n",
      "16709  RU000A0JSGV0  РЖД-32 обл  20.96        1.135833  0.1487\n",
      "16712  RU000A0JT6B2   ВЭБ.РФ 19  19.91        0.922500  0.1830\n",
      "16711  RU000A0JT403   ВЭБ.РФ 18  20.11        2.077500  0.0813\n",
      "\n",
      "Портфель сохранен в /Users/aeshef/Documents/GitHub/kursach/data/processed_data/BONDS/results/bond_portfolio_20250425.csv\n",
      "Визуализация сохранена в /Users/aeshef/Documents/GitHub/kursach/data/processed_data/BONDS/results/bond_universe_20250425.png\n"
     ]
    },
    {
     "name": "stderr",
     "output_type": "stream",
     "text": [
      "2025-04-25 17:53:18 - BondsProcessor - INFO - Portfolio analysis generated successfully\n"
     ]
    },
    {
     "name": "stdout",
     "output_type": "stream",
     "text": [
      "\n",
      "=== Характеристики портфеля ===\n",
      "Средневзвешенная доходность: 20.54%\n",
      "Средневзвешенная дюрация: 0.84 лет\n",
      "Уровень риска (дюрация): Низкий\n",
      "\n",
      "Анализ успешно завершен!\n"
     ]
    }
   ],
   "source": [
    "results = run_pipeline_bonds_processor(\n",
    "    base_path=BASE_PATH,\n",
    "    # Дополнительные параметры можно указать при необходимости\n",
    "    # min_yield=7.0,\n",
    "    # max_duration=4.0,\n",
    "    # n_bonds=7\n",
    ")\n"
   ]
  },
  {
   "cell_type": "code",
   "execution_count": null,
   "id": "0949fbc2",
   "metadata": {},
   "outputs": [],
   "source": []
  }
 ],
 "metadata": {
  "kernelspec": {
   "display_name": "Kursach Env",
   "language": "python",
   "name": "kursach-env"
  },
  "language_info": {
   "codemirror_mode": {
    "name": "ipython",
    "version": 3
   },
   "file_extension": ".py",
   "mimetype": "text/x-python",
   "name": "python",
   "nbconvert_exporter": "python",
   "pygments_lexer": "ipython3",
   "version": "3.13.3"
  }
 },
 "nbformat": 4,
 "nbformat_minor": 5
}
