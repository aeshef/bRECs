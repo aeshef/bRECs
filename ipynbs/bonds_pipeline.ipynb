{
 "cells": [
  {
   "cell_type": "code",
   "execution_count": 1,
   "id": "5c5c53aa",
   "metadata": {},
   "outputs": [
    {
     "name": "stderr",
     "output_type": "stream",
     "text": [
      "/Users/aeshef/Library/Python/3.9/lib/python/site-packages/urllib3/__init__.py:35: NotOpenSSLWarning: urllib3 v2 only supports OpenSSL 1.1.1+, currently the 'ssl' module is compiled with 'LibreSSL 2.8.3'. See: https://github.com/urllib3/urllib3/issues/3020\n",
      "  warnings.warn(\n"
     ]
    },
    {
     "ename": "ImportError",
     "evalue": "cannot import name 'Logger' from 'bonds_parser' (/Users/aeshef/Documents/GitHub/kursach/pys/data_collection/bonds_parser.py)",
     "output_type": "error",
     "traceback": [
      "\u001b[0;31m---------------------------------------------------------------------------\u001b[0m",
      "\u001b[0;31mImportError\u001b[0m                               Traceback (most recent call last)",
      "Cell \u001b[0;32mIn[1], line 20\u001b[0m\n\u001b[1;32m     18\u001b[0m \u001b[38;5;28;01mimport\u001b[39;00m\u001b[38;5;250m \u001b[39m\u001b[38;5;21;01mbonds_parser\u001b[39;00m\n\u001b[1;32m     19\u001b[0m importlib\u001b[38;5;241m.\u001b[39mreload(bonds_parser)\n\u001b[0;32m---> 20\u001b[0m \u001b[38;5;28;01mfrom\u001b[39;00m\u001b[38;5;250m \u001b[39m\u001b[38;5;21;01mbonds_parser\u001b[39;00m\u001b[38;5;250m \u001b[39m\u001b[38;5;28;01mimport\u001b[39;00m MOEXBondHistoricalParser, Logger\n",
      "\u001b[0;31mImportError\u001b[0m: cannot import name 'Logger' from 'bonds_parser' (/Users/aeshef/Documents/GitHub/kursach/pys/data_collection/bonds_parser.py)"
     ]
    }
   ],
   "source": [
    "import json\n",
    "import os\n",
    "import subprocess\n",
    "import sys\n",
    "import datetime\n",
    "from typing import Any, Dict, List, Optional, Type, Union\n",
    "from datetime import datetime\n",
    "import pandas as pd\n",
    "import os\n",
    "import sys\n",
    "import numpy as np\n",
    "import importlib\n",
    "from concurrent.futures import ThreadPoolExecutor\n",
    "\n",
    "import sys\n",
    "sys.path.append('/Users/aeshef/Documents/GitHub/kursach/pys/data_collection')\n",
    "\n",
    "import bonds_parser\n",
    "importlib.reload(bonds_parser)\n",
    "from bonds_parser import MOEXBondHistoricalParser, Logger\n"
   ]
  },
  {
   "cell_type": "code",
   "execution_count": null,
   "id": "bb76662f",
   "metadata": {},
   "outputs": [
    {
     "name": "stdout",
     "output_type": "stream",
     "text": [
      "Запуск массового парсинга данных с 2024-01-01 по 2025-04-23\n",
      "Запрошен период с 2024-01-01 по 2025-04-23\n",
      "Получение облигаций за период с 2024-01-01 по 2025-04-23\n",
      "Обработка даты: 2024-01-01 (рабочий день)\n",
      "Получение списка облигаций на 2024-01-01\n"
     ]
    },
    {
     "ename": "KeyboardInterrupt",
     "evalue": "",
     "output_type": "error",
     "traceback": [
      "\u001b[0;31m---------------------------------------------------------------------------\u001b[0m",
      "\u001b[0;31mKeyboardInterrupt\u001b[0m                         Traceback (most recent call last)",
      "Cell \u001b[0;32mIn[2], line 5\u001b[0m\n\u001b[1;32m      1\u001b[0m like_print_log \u001b[38;5;241m=\u001b[39m Logger(name\u001b[38;5;241m=\u001b[39m\u001b[38;5;124m\"\u001b[39m\u001b[38;5;124mmain\u001b[39m\u001b[38;5;124m\"\u001b[39m, \u001b[38;5;28mformat\u001b[39m\u001b[38;5;241m=\u001b[39m\u001b[38;5;124m\"\u001b[39m\u001b[38;5;132;01m%(message)s\u001b[39;00m\u001b[38;5;124m\"\u001b[39m, store\u001b[38;5;241m=\u001b[39m\u001b[38;5;28;01mTrue\u001b[39;00m)\n\u001b[1;32m      3\u001b[0m bond_parser \u001b[38;5;241m=\u001b[39m MOEXBondHistoricalParser(log\u001b[38;5;241m=\u001b[39mlike_print_log, verbose\u001b[38;5;241m=\u001b[39m\u001b[38;5;28;01mFalse\u001b[39;00m)\n\u001b[0;32m----> 5\u001b[0m result \u001b[38;5;241m=\u001b[39m \u001b[43mbond_parser\u001b[49m\u001b[38;5;241;43m.\u001b[39;49m\u001b[43mparse_from_2024_to_now\u001b[49m\u001b[43m(\u001b[49m\n\u001b[1;32m      6\u001b[0m \u001b[43m    \u001b[49m\u001b[43minclude_non_trading_days\u001b[49m\u001b[38;5;241;43m=\u001b[39;49m\u001b[38;5;28;43;01mTrue\u001b[39;49;00m\u001b[43m,\u001b[49m\u001b[43m  \u001b[49m\u001b[38;5;66;43;03m# Включаем выходные дни\u001b[39;49;00m\n\u001b[1;32m      7\u001b[0m \u001b[43m    \u001b[49m\u001b[43manalyze_continuity\u001b[49m\u001b[38;5;241;43m=\u001b[39;49m\u001b[38;5;28;43;01mTrue\u001b[39;49;00m\u001b[43m,\u001b[49m\u001b[43m        \u001b[49m\u001b[38;5;66;43;03m# Анализируем непрерывность и создаем полный датасет\u001b[39;49;00m\n\u001b[1;32m      8\u001b[0m \u001b[43m    \u001b[49m\u001b[43myield_range\u001b[49m\u001b[38;5;241;43m=\u001b[39;49m\u001b[43m(\u001b[49m\u001b[38;5;241;43m0\u001b[39;49m\u001b[43m,\u001b[49m\u001b[43m \u001b[49m\u001b[38;5;241;43m100\u001b[39;49m\u001b[43m)\u001b[49m\u001b[43m,\u001b[49m\u001b[43m           \u001b[49m\u001b[38;5;66;43;03m# Широкий диапазон - берем все\u001b[39;49;00m\n\u001b[1;32m      9\u001b[0m \u001b[43m    \u001b[49m\u001b[43mprice_range\u001b[49m\u001b[38;5;241;43m=\u001b[39;49m\u001b[43m(\u001b[49m\u001b[38;5;241;43m0\u001b[39;49m\u001b[43m,\u001b[49m\u001b[43m \u001b[49m\u001b[38;5;241;43m100\u001b[39;49m\u001b[43m)\u001b[49m\u001b[43m,\u001b[49m\u001b[43m           \u001b[49m\u001b[38;5;66;43;03m# Широкий диапазон - берем все\u001b[39;49;00m\n\u001b[1;32m     10\u001b[0m \u001b[43m    \u001b[49m\u001b[43mduration_range\u001b[49m\u001b[38;5;241;43m=\u001b[39;49m\u001b[43m(\u001b[49m\u001b[38;5;241;43m0\u001b[39;49m\u001b[43m,\u001b[49m\u001b[43m \u001b[49m\u001b[38;5;241;43m7200\u001b[39;49m\u001b[43m)\u001b[49m\u001b[43m         \u001b[49m\u001b[38;5;66;43;03m# Широкий диапазон - берем все\u001b[39;49;00m\n\u001b[1;32m     11\u001b[0m \u001b[43m)\u001b[49m\n\u001b[1;32m     13\u001b[0m \u001b[38;5;28mprint\u001b[39m(\u001b[38;5;124mf\u001b[39m\u001b[38;5;124m\"\u001b[39m\u001b[38;5;124mВсего дней с данными: \u001b[39m\u001b[38;5;132;01m{\u001b[39;00m\u001b[38;5;28mlen\u001b[39m(result)\u001b[38;5;132;01m}\u001b[39;00m\u001b[38;5;124m\"\u001b[39m)\n\u001b[1;32m     14\u001b[0m trading_days \u001b[38;5;241m=\u001b[39m \u001b[38;5;28msum\u001b[39m(\u001b[38;5;241m1\u001b[39m \u001b[38;5;28;01mfor\u001b[39;00m date \u001b[38;5;129;01min\u001b[39;00m result\u001b[38;5;241m.\u001b[39mkeys() \u001b[38;5;28;01mif\u001b[39;00m datetime\u001b[38;5;241m.\u001b[39mstrptime(date, \u001b[38;5;124m'\u001b[39m\u001b[38;5;124m%\u001b[39m\u001b[38;5;124mY-\u001b[39m\u001b[38;5;124m%\u001b[39m\u001b[38;5;124mm-\u001b[39m\u001b[38;5;132;01m%d\u001b[39;00m\u001b[38;5;124m'\u001b[39m)\u001b[38;5;241m.\u001b[39mweekday() \u001b[38;5;241m<\u001b[39m \u001b[38;5;241m5\u001b[39m)\n",
      "File \u001b[0;32m~/Documents/GitHub/kursach/pys/data_collection/bonds_parser.py:1235\u001b[0m, in \u001b[0;36mMOEXBondHistoricalParser.parse_from_2024_to_now\u001b[0;34m(self, include_non_trading_days, analyze_continuity, **filter_params)\u001b[0m\n\u001b[1;32m   1231\u001b[0m end_date \u001b[38;5;241m=\u001b[39m \u001b[38;5;28mself\u001b[39m\u001b[38;5;241m.\u001b[39m_get_last_trading_day()\n\u001b[1;32m   1233\u001b[0m \u001b[38;5;28mself\u001b[39m\u001b[38;5;241m.\u001b[39m_log_info(\u001b[38;5;124mf\u001b[39m\u001b[38;5;124m\"\u001b[39m\u001b[38;5;124mЗапуск массового парсинга данных с \u001b[39m\u001b[38;5;132;01m{\u001b[39;00mstart_date\u001b[38;5;241m.\u001b[39mstrftime(\u001b[38;5;124m'\u001b[39m\u001b[38;5;124m%\u001b[39m\u001b[38;5;124mY-\u001b[39m\u001b[38;5;124m%\u001b[39m\u001b[38;5;124mm-\u001b[39m\u001b[38;5;132;01m%d\u001b[39;00m\u001b[38;5;124m'\u001b[39m)\u001b[38;5;132;01m}\u001b[39;00m\u001b[38;5;124m по \u001b[39m\u001b[38;5;132;01m{\u001b[39;00mend_date\u001b[38;5;241m.\u001b[39mstrftime(\u001b[38;5;124m'\u001b[39m\u001b[38;5;124m%\u001b[39m\u001b[38;5;124mY-\u001b[39m\u001b[38;5;124m%\u001b[39m\u001b[38;5;124mm-\u001b[39m\u001b[38;5;132;01m%d\u001b[39;00m\u001b[38;5;124m'\u001b[39m)\u001b[38;5;132;01m}\u001b[39;00m\u001b[38;5;124m\"\u001b[39m)\n\u001b[0;32m-> 1235\u001b[0m result \u001b[38;5;241m=\u001b[39m \u001b[38;5;28;43mself\u001b[39;49m\u001b[38;5;241;43m.\u001b[39;49m\u001b[43mget_bonds_for_period\u001b[49m\u001b[43m(\u001b[49m\n\u001b[1;32m   1236\u001b[0m \u001b[43m    \u001b[49m\u001b[43mstart_date\u001b[49m\u001b[38;5;241;43m=\u001b[39;49m\u001b[43mstart_date\u001b[49m\u001b[43m,\u001b[49m\n\u001b[1;32m   1237\u001b[0m \u001b[43m    \u001b[49m\u001b[43mend_date\u001b[49m\u001b[38;5;241;43m=\u001b[39;49m\u001b[43mend_date\u001b[49m\u001b[43m,\u001b[49m\n\u001b[1;32m   1238\u001b[0m \u001b[43m    \u001b[49m\u001b[43minclude_non_trading_days\u001b[49m\u001b[38;5;241;43m=\u001b[39;49m\u001b[43minclude_non_trading_days\u001b[49m\u001b[43m,\u001b[49m\n\u001b[1;32m   1239\u001b[0m \u001b[43m    \u001b[49m\u001b[38;5;241;43m*\u001b[39;49m\u001b[38;5;241;43m*\u001b[39;49m\u001b[43mfilter_params\u001b[49m\n\u001b[1;32m   1240\u001b[0m \u001b[43m\u001b[49m\u001b[43m)\u001b[49m\n\u001b[1;32m   1242\u001b[0m \u001b[38;5;66;03m# Если требуется, анализируем непрерывность данных и создаем полный датасет\u001b[39;00m\n\u001b[1;32m   1243\u001b[0m \u001b[38;5;28;01mif\u001b[39;00m analyze_continuity \u001b[38;5;129;01mand\u001b[39;00m result:\n",
      "File \u001b[0;32m~/Documents/GitHub/kursach/pys/data_collection/bonds_parser.py:309\u001b[0m, in \u001b[0;36mMOEXBondHistoricalParser.get_bonds_for_period\u001b[0;34m(self, start_date, end_date, include_non_trading_days, **filter_params)\u001b[0m\n\u001b[1;32m    305\u001b[0m \u001b[38;5;28mself\u001b[39m\u001b[38;5;241m.\u001b[39m_log_info(\u001b[38;5;124mf\u001b[39m\u001b[38;5;124m\"\u001b[39m\u001b[38;5;124mОбработка даты: \u001b[39m\u001b[38;5;132;01m{\u001b[39;00mdate_key\u001b[38;5;132;01m}\u001b[39;00m\u001b[38;5;124m (\u001b[39m\u001b[38;5;132;01m{\u001b[39;00m\u001b[38;5;124m'\u001b[39m\u001b[38;5;124mрабочий день\u001b[39m\u001b[38;5;124m'\u001b[39m\u001b[38;5;250m \u001b[39m\u001b[38;5;28;01mif\u001b[39;00m\u001b[38;5;250m \u001b[39mis_trading_day\u001b[38;5;250m \u001b[39m\u001b[38;5;28;01melse\u001b[39;00m\u001b[38;5;250m \u001b[39m\u001b[38;5;124m'\u001b[39m\u001b[38;5;124mвыходной\u001b[39m\u001b[38;5;124m'\u001b[39m\u001b[38;5;132;01m}\u001b[39;00m\u001b[38;5;124m)\u001b[39m\u001b[38;5;124m\"\u001b[39m)\n\u001b[1;32m    307\u001b[0m \u001b[38;5;28;01mif\u001b[39;00m is_trading_day:\n\u001b[1;32m    308\u001b[0m     \u001b[38;5;66;03m# Рабочий день - делаем запрос к API\u001b[39;00m\n\u001b[0;32m--> 309\u001b[0m     bonds \u001b[38;5;241m=\u001b[39m \u001b[38;5;28;43mself\u001b[39;49m\u001b[38;5;241;43m.\u001b[39;49m\u001b[43mget_available_bonds\u001b[49m\u001b[43m(\u001b[49m\u001b[43mdate\u001b[49m\u001b[38;5;241;43m=\u001b[39;49m\u001b[43mcurrent_date\u001b[49m\u001b[43m,\u001b[49m\u001b[43m \u001b[49m\u001b[38;5;241;43m*\u001b[39;49m\u001b[38;5;241;43m*\u001b[39;49m\u001b[43mfilter_params\u001b[49m\u001b[43m)\u001b[49m\n\u001b[1;32m    311\u001b[0m     \u001b[38;5;28;01mif\u001b[39;00m bonds:\n\u001b[1;32m    312\u001b[0m         result[date_key] \u001b[38;5;241m=\u001b[39m bonds\n",
      "File \u001b[0;32m~/Documents/GitHub/kursach/pys/data_collection/bonds_parser.py:149\u001b[0m, in \u001b[0;36mMOEXBondHistoricalParser.get_available_bonds\u001b[0;34m(self, date, yield_range, price_range, duration_range, volume_threshold, bond_volume_threshold, is_qualified_investors, coupon_type, emitent, issue_year_range, known_coupon_payments, use_existing_data)\u001b[0m\n\u001b[1;32m    147\u001b[0m \u001b[38;5;66;03m# Если нет существующих данных или их нельзя использовать, запрашиваем с API\u001b[39;00m\n\u001b[1;32m    148\u001b[0m \u001b[38;5;28;01mif\u001b[39;00m all_bonds \u001b[38;5;129;01mis\u001b[39;00m \u001b[38;5;28;01mNone\u001b[39;00m:\n\u001b[0;32m--> 149\u001b[0m     all_bonds \u001b[38;5;241m=\u001b[39m \u001b[38;5;28;43mself\u001b[39;49m\u001b[38;5;241;43m.\u001b[39;49m\u001b[43m_get_all_bonds_for_date\u001b[49m\u001b[43m(\u001b[49m\u001b[43mdate\u001b[49m\u001b[43m)\u001b[49m\n\u001b[1;32m    150\u001b[0m     \u001b[38;5;66;03m# Сохраняем полные данные в all.csv\u001b[39;00m\n\u001b[1;32m    151\u001b[0m     \u001b[38;5;28;01mif\u001b[39;00m all_bonds:\n",
      "File \u001b[0;32m~/Documents/GitHub/kursach/pys/data_collection/bonds_parser.py:446\u001b[0m, in \u001b[0;36mMOEXBondHistoricalParser._get_all_bonds_for_date\u001b[0;34m(self, date)\u001b[0m\n\u001b[1;32m    443\u001b[0m     \u001b[38;5;28mself\u001b[39m\u001b[38;5;241m.\u001b[39m_log_info(\u001b[38;5;124mf\u001b[39m\u001b[38;5;124m\"\u001b[39m\u001b[38;5;124mЗапрос облигаций для группы \u001b[39m\u001b[38;5;132;01m{\u001b[39;00mboard_group\u001b[38;5;132;01m}\u001b[39;00m\u001b[38;5;124m на дату \u001b[39m\u001b[38;5;132;01m{\u001b[39;00mdate_str\u001b[38;5;132;01m}\u001b[39;00m\u001b[38;5;124m: \u001b[39m\u001b[38;5;132;01m{\u001b[39;00murl\u001b[38;5;132;01m}\u001b[39;00m\u001b[38;5;124m\"\u001b[39m)\n\u001b[1;32m    445\u001b[0m \u001b[38;5;28;01mtry\u001b[39;00m:\n\u001b[0;32m--> 446\u001b[0m     \u001b[43mtime\u001b[49m\u001b[38;5;241;43m.\u001b[39;49m\u001b[43msleep\u001b[49m\u001b[43m(\u001b[49m\u001b[38;5;28;43mself\u001b[39;49m\u001b[38;5;241;43m.\u001b[39;49m\u001b[43mAPI_DELAY\u001b[49m\u001b[43m)\u001b[49m\n\u001b[1;32m    447\u001b[0m     response \u001b[38;5;241m=\u001b[39m requests\u001b[38;5;241m.\u001b[39mget(url)\n\u001b[1;32m    448\u001b[0m     response\u001b[38;5;241m.\u001b[39mraise_for_status()\n",
      "\u001b[0;31mKeyboardInterrupt\u001b[0m: "
     ]
    }
   ],
   "source": [
    "like_print_log = Logger(name=\"main\", format=\"%(message)s\", store=True)\n",
    "\n",
    "bond_parser = MOEXBondHistoricalParser(log=like_print_log, verbose=False)\n",
    "\n",
    "result = bond_parser.parse_from_2024_to_now(\n",
    "    include_non_trading_days=True,  # Включаем выходные дни\n",
    "    analyze_continuity=True,        # Анализируем непрерывность и создаем полный датасет\n",
    "    yield_range=(0, 100),           # Широкий диапазон - берем все\n",
    "    price_range=(0, 100),           # Широкий диапазон - берем все\n",
    "    duration_range=(0, 7200)         # Широкий диапазон - берем все\n",
    ")\n",
    "\n",
    "print(f\"Всего дней с данными: {len(result)}\")\n",
    "trading_days = sum(1 for date in result.keys() if datetime.strptime(date, '%Y-%m-%d').weekday() < 5)\n",
    "print(f\"Торговых дней: {trading_days}\")\n",
    "print(f\"Нерабочих дней с данными: {len(result) - trading_days}\")\n",
    "\n"
   ]
  },
  {
   "cell_type": "code",
   "execution_count": null,
   "id": "13e0491e",
   "metadata": {},
   "outputs": [
    {
     "name": "stdout",
     "output_type": "stream",
     "text": [
      "Поиск оптимального порога непрерывности для получения минимум 20 облигаций\n",
      "Порог 99%: 49 облигаций\n",
      "Найден оптимальный порог: 99% с 49 облигациями\n",
      "Оптимальный порог непрерывности: 99%\n",
      "Генерация датасета с порогом непрерывности 99% с 2024-01-01 по 2025-04-22\n",
      "Найдено 49 облигаций с непрерывностью >= 99%\n",
      "Датасет с порогом непрерывности 99% создан и сохранен в /Users/aeshef/Documents/GitHub/kursach/data/processed_data/BONDS/moex/threshold_dataset_20240101_20250422_99\n",
      "Всего дат: 340, облигаций: 49\n",
      "Создан датасет с 36 облигациями и 340 датами\n"
     ]
    },
    {
     "name": "stderr",
     "output_type": "stream",
     "text": [
      "/Users/aeshef/Documents/GitHub/kursach/pys/data_collection/bonds_parser.py:1063: FutureWarning: Downcasting object dtype arrays on .fillna, .ffill, .bfill is deprecated and will change in a future version. Call result.infer_objects(copy=False) instead. To opt-in to the future behavior, set `pd.set_option('future.no_silent_downcasting', True)`\n",
      "  price_data_filled = price_data.ffill()\n",
      "/Users/aeshef/Documents/GitHub/kursach/pys/data_collection/bonds_parser.py:1064: FutureWarning: Downcasting object dtype arrays on .fillna, .ffill, .bfill is deprecated and will change in a future version. Call result.infer_objects(copy=False) instead. To opt-in to the future behavior, set `pd.set_option('future.no_silent_downcasting', True)`\n",
      "  yield_data_filled = yield_data.ffill()\n"
     ]
    }
   ],
   "source": [
    "optimal_threshold = bond_parser.find_optimal_threshold(\n",
    "    start_date=datetime(2024, 1, 1),\n",
    "    end_date=datetime(2025, 4, 22),\n",
    "    min_bonds=20,\n",
    "    max_threshold=99\n",
    ")\n",
    "\n",
    "print(f\"Оптимальный порог непрерывности: {optimal_threshold}%\")\n",
    "\n",
    "dataset = bond_parser.generate_dataset_with_threshold(\n",
    "    start_date=datetime(2024, 1, 1),\n",
    "    end_date=datetime(2025, 4, 22),\n",
    "    continuity_threshold=optimal_threshold\n",
    ")\n",
    "\n",
    "if dataset is not None:\n",
    "    print(f\"Создан датасет с {len(dataset['secid'].unique())} облигациями и {len(dataset['date'].unique())} датами\")\n",
    "else:\n",
    "    print(\"Не удалось создать датасет\")"
   ]
  },
  {
   "cell_type": "code",
   "execution_count": null,
   "id": "0f141401",
   "metadata": {},
   "outputs": [],
   "source": []
  }
 ],
 "metadata": {
  "kernelspec": {
   "display_name": "Python 3",
   "language": "python",
   "name": "python3"
  },
  "language_info": {
   "codemirror_mode": {
    "name": "ipython",
    "version": 3
   },
   "file_extension": ".py",
   "mimetype": "text/x-python",
   "name": "python",
   "nbconvert_exporter": "python",
   "pygments_lexer": "ipython3",
   "version": "3.9.6"
  }
 },
 "nbformat": 4,
 "nbformat_minor": 5
}
